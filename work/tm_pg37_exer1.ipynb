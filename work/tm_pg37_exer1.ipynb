{
 "cells": [
  {
   "cell_type": "code",
   "execution_count": null,
   "metadata": {},
   "outputs": [],
   "source": [
    "from modules.simplegraph import simplegraph\n",
    "import numpy as np"
   ]
  },
  {
   "cell_type": "code",
   "execution_count": null,
   "metadata": {},
   "outputs": [],
   "source": [
    "# First function from Exercise 1\n",
    "def f(t):\n",
    "    return t**4 + (3*(t**3)) + (-12*(t**2)) + t - 6\n",
    "\n",
    "# My calculated derivative\n",
    "# Verified here: https://www.wolframalpha.com/input/?i=deriv+of+t%5E4+%2B+3t%5E3+-+12t%5E2+%2B+t+-+6\n",
    "def deriv_f(t):\n",
    "    return (4*(t**3)) + (9*(t**2)) + (-24*(t)) + 1"
   ]
  },
  {
   "cell_type": "code",
   "execution_count": null,
   "metadata": {},
   "outputs": [],
   "source": [
    "simplegraph(f)"
   ]
  },
  {
   "cell_type": "code",
   "execution_count": null,
   "metadata": {},
   "outputs": [],
   "source": [
    "simplegraph(deriv_f)"
   ]
  },
  {
   "cell_type": "code",
   "execution_count": null,
   "metadata": {},
   "outputs": [],
   "source": [
    "# Second function in Exercise 1\n",
    "def g(x):\n",
    "    return np.sin(x) - np.cos(x)\n",
    "\n",
    "# My calculated derivative\n",
    "def deriv_g(x):\n",
    "    return np.cos(x) + np.sin(x)"
   ]
  },
  {
   "cell_type": "code",
   "execution_count": null,
   "metadata": {},
   "outputs": [],
   "source": [
    "simplegraph(g,left=-5,right=5)"
   ]
  },
  {
   "cell_type": "code",
   "execution_count": null,
   "metadata": {},
   "outputs": [],
   "source": [
    "simplegraph(deriv_g,left=-5,right=5)"
   ]
  },
  {
   "cell_type": "code",
   "execution_count": null,
   "metadata": {},
   "outputs": [],
   "source": [
    "# Third function in Exercise 1\n",
    "def theta(alpha):\n",
    "    return np.e**alpha + (alpha*(np.log(alpha)))\n",
    "\n",
    "# My calculated derivative\n",
    "def deriv_theta(alpha):\n",
    "    return np.e**alpha + np.log(alpha) + 1"
   ]
  },
  {
   "cell_type": "code",
   "execution_count": null,
   "metadata": {},
   "outputs": [],
   "source": [
    "simplegraph(theta)"
   ]
  },
  {
   "cell_type": "code",
   "execution_count": null,
   "metadata": {},
   "outputs": [],
   "source": [
    "simplegraph(deriv_theta)"
   ]
  },
  {
   "cell_type": "code",
   "execution_count": null,
   "metadata": {},
   "outputs": [],
   "source": [
    "# Fourth function in Exercise 1\n",
    "def x(t):\n",
    "    return np.sin(t)*np.sin(t) - np.cos(t)\n",
    "\n",
    "# My calculated derivative\n",
    "# Verified here: https://www.wolframalpha.com/input/?i=deriv+sin(t)*sin(t)+-+cos(t)\n",
    "def deriv_x(t):\n",
    "    return np.sin(t) * (2*np.cos(t) + 1)"
   ]
  },
  {
   "cell_type": "code",
   "execution_count": null,
   "metadata": {},
   "outputs": [],
   "source": [
    "simplegraph(x,left=-5,right=5)"
   ]
  },
  {
   "cell_type": "code",
   "execution_count": null,
   "metadata": {},
   "outputs": [],
   "source": [
    "simplegraph(deriv_x,left=-5,right=5)"
   ]
  }
 ],
 "metadata": {
  "kernelspec": {
   "display_name": "Python 3",
   "language": "python",
   "name": "python3"
  },
  "language_info": {
   "codemirror_mode": {
    "name": "ipython",
    "version": 3
   },
   "file_extension": ".py",
   "mimetype": "text/x-python",
   "name": "python",
   "nbconvert_exporter": "python",
   "pygments_lexer": "ipython3",
   "version": "3.7.1"
  }
 },
 "nbformat": 4,
 "nbformat_minor": 2
}
